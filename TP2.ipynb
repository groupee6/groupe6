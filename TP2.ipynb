{
 "cells": [
  {
   "cell_type": "code",
   "execution_count": 51,
   "id": "f34ce96f",
   "metadata": {},
   "outputs": [],
   "source": [
    "import numpy as np\n",
    "import pandas as pd\n",
    "import matplotlib.pyplot as plt"
   ]
  },
  {
   "cell_type": "code",
   "execution_count": 55,
   "id": "768eda7c",
   "metadata": {},
   "outputs": [],
   "source": [
    "data = pd.read_csv(\"TP2 ex2data1.txt\", header=None)\n"
   ]
  },
  {
   "cell_type": "code",
   "execution_count": 56,
   "id": "657b62b8",
   "metadata": {},
   "outputs": [],
   "source": [
    "X = data.values[:, :-1]\n",
    "y = data.values[:, -1]"
   ]
  },
  {
   "cell_type": "code",
   "execution_count": 57,
   "id": "09c35f8b",
   "metadata": {},
   "outputs": [],
   "source": [
    "pos, neg = (y==1).reshape(100, 1), (y==0).reshape(100, 1)"
   ]
  },
  {
   "cell_type": "code",
   "execution_count": 58,
   "id": "e4229446",
   "metadata": {},
   "outputs": [
    {
     "data": {
      "text/plain": [
       "<matplotlib.legend.Legend at 0x1be811ab0d0>"
      ]
     },
     "execution_count": 58,
     "metadata": {},
     "output_type": "execute_result"
    },
    {
     "data": {
      "image/png": "[encoded data removed]",
      "text/plain": [
       "<Figure size 432x288 with 1 Axes>"
      ]
     },
     "metadata": {
      "needs_background": "light"
     },
     "output_type": "display_data"
    }
   ],
   "source": [
    "plt.scatter(X[pos[:, 0], 0], X[pos[:, 0], 1], c='black', marker='+', label=\"Admitted\")\n",
    "plt.scatter(X[neg[:, 0], 0], X[neg[:, 0], 1],c='yellow', marker='o', label=\"Not Admitted\", s=10)\n",
    "plt.xlabel(\"Exam1 Score\")\n",
    "plt.ylabel(\"Exam2 Score\")\n",
    "plt.legend(loc=0)"
   ]
  },
  {
   "cell_type": "code",
   "execution_count": 59,
   "id": "4ffe4d38",
   "metadata": {},
   "outputs": [],
   "source": [
    "def sigmoid(z):\n",
    "    return 1 / (1 + np.exp(-z))\n"
   ]
  },
  {
   "cell_type": "code",
   "execution_count": 60,
   "id": "7e277b8d",
   "metadata": {},
   "outputs": [
    {
     "name": "stdout",
     "output_type": "stream",
     "text": [
      "0.5\n"
     ]
    }
   ],
   "source": [
    "print(sigmoid(0))\n"
   ]
  },
  {
   "cell_type": "code",
   "execution_count": 61,
   "id": "2ba3843c",
   "metadata": {},
   "outputs": [],
   "source": [
    "def Cout(X, y, theta):\n",
    "    m=len(y)\n",
    "    \n",
    "    h_theta = sigmoid(X@theta)\n",
    "    y_pos = -y.T @ np.log(h_theta) \n",
    "    y_neg = (1-y).T @ np.log(1-h_theta)\n",
    "    e = y_pos - y_neg\n",
    "    \n",
    "    cost = 1/m * sum(e)\n",
    "    grad = 1/m * (X.T@(h_theta - y))\n",
    "    \n",
    "    return cost[0] , grad"
   ]
  },
  {
   "cell_type": "code",
   "execution_count": 62,
   "id": "93105426",
   "metadata": {},
   "outputs": [],
   "source": [
    "def featureNormalization(X):\n",
    "    mu = np.mean(X, axis=0)\n",
    "    sigma = np.std(X, axis=0)\n",
    "    X_Norm = (X - mu)/sigma\n",
    "    return X_Norm, mu, sigma"
   ]
  },
  {
   "cell_type": "code",
   "execution_count": 63,
   "id": "07ceb7af",
   "metadata": {},
   "outputs": [
    {
     "name": "stdout",
     "output_type": "stream",
     "text": [
      "Le coût du thêta initial est 0.6931471805599452\n",
      "Gradient au thêta initial (zéros) : [[-0.1       ]\n",
      " [-0.28122914]\n",
      " [-0.25098615]]\n"
     ]
    }
   ],
   "source": [
    "m, n = X.shape\n",
    "X, mu, sigma = featureNormalization(X)\n",
    "X = np.column_stack((np.ones((m, 1)), X))\n",
    "y = y.reshape(m, 1)\n",
    "initial_theta = np.zeros((n+1, 1))\n",
    "cost, grad= Cout(X, y, initial_theta)\n",
    "print(\"Le coût du thêta initial est\", cost)\n",
    "print(\"Gradient au thêta initial (zéros) :\", grad)"
   ]
  },
  {
   "cell_type": "code",
   "execution_count": 64,
   "id": "7cc8ccff",
   "metadata": {},
   "outputs": [],
   "source": [
    "def gradientDescent(X, y, theta, alpha, n_iters):\n",
    "    m=len(y)\n",
    "    J_history =[]\n",
    "    \n",
    "    for i in range(n_iters):\n",
    "        cost, grad = Cout(X, y, theta)\n",
    "        theta = theta - (alpha * grad)\n",
    "        J_history.append(cost)\n",
    "    return theta, J_history"
   ]
  },
  {
   "cell_type": "code",
   "execution_count": 65,
   "id": "789e9de5",
   "metadata": {},
   "outputs": [
    {
     "name": "stdout",
     "output_type": "stream",
     "text": [
      "0.20386641236318892\n"
     ]
    }
   ],
   "source": [
    "theta, J_history = gradientDescent(X=X, y=y, theta=initial_theta, alpha=0.01, n_iters=30000)\n",
    "print(J_history[29999])"
   ]
  },
  {
   "cell_type": "code",
   "execution_count": 66,
   "id": "1e57e2e5",
   "metadata": {},
   "outputs": [
    {
     "data": {
      "text/plain": [
       "<matplotlib.legend.Legend at 0x1be81260760>"
      ]
     },
     "execution_count": 66,
     "metadata": {},
     "output_type": "execute_result"
    },
    {
     "data": {
      "image/png": "[encoded data removed]",
      "text/plain": [
       "<Figure size 432x288 with 1 Axes>"
      ]
     },
     "metadata": {
      "needs_background": "light"
     },
     "output_type": "display_data"
    }
   ],
   "source": [
    "plt.scatter(X[pos[:,0],1],X[pos[:,0],2],c=\"black\",marker=\"+\",label=\"Admitted\")\n",
    "plt.scatter(X[neg[:,0],1],X[neg[:,0],2],c=\"y\",marker=\"o\",label=\"Not admitted\")\n",
    "x_value = np.array([np.min(X[:,1]),np.max(X[:,1])])\n",
    "y_value = -(theta[0] +theta[1]*x_value)/theta[2]\n",
    "plt.plot(x_value,y_value, \"r\")\n",
    "plt.xlabel(\"Exam 1 score\")\n",
    "plt.ylabel(\"Exam 2 score\")\n",
    "plt.legend(loc=0)"
   ]
  },
  {
   "cell_type": "code",
   "execution_count": 67,
   "id": "e66b5534",
   "metadata": {},
   "outputs": [
    {
     "name": "stdout",
     "output_type": "stream",
     "text": [
      "Pour un étudiant avec des scores de 45 et 85, nous prévoyons une probabilité d'admission de  0.7936994099590835\n"
     ]
    }
   ],
   "source": [
    "x_sample = np.array([45, 85])\n",
    "x_sample = featureNormalization(x_sample)[0]\n",
    "x_sample = np.append(np.ones(1), x_sample)\n",
    "prob = sigmoid(x_sample.dot(theta))\n",
    "print(\"Pour un étudiant avec des scores de 45 et 85, nous prévoyons une probabilité d'admission de \",prob[0])"
   ]
  },
  {
   "cell_type": "code",
   "execution_count": null,
   "id": "c6faefaa",
   "metadata": {},
   "outputs": [],
   "source": []
  },
  {
   "cell_type": "code",
   "execution_count": null,
   "id": "c10f7542",
   "metadata": {},
   "outputs": [],
   "source": []
  }
 ],
 "metadata": {
  "kernelspec": {
   "display_name": "Python 3 (ipykernel)",
   "language": "python",
   "name": "python3"
  },
  "language_info": {
   "codemirror_mode": {
    "name": "ipython",
    "version": 3
   },
   "file_extension": ".py",
   "mimetype": "text/x-python",
   "name": "python",
   "nbconvert_exporter": "python",
   "pygments_lexer": "ipython3",
   "version": "3.9.7"
  }
 },
 "nbformat": 4,
 "nbformat_minor": 5
}
